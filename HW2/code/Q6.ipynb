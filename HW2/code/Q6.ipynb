{
  "cells": [
    {
      "cell_type": "code",
      "execution_count": 58,
      "metadata": {
        "colab": {
          "base_uri": "https://localhost:8080/"
        },
        "id": "Bqa_zsNv0Dyp",
        "outputId": "83640d3f-25b1-46a8-e8f2-a0895e356aef"
      },
      "outputs": [
        {
          "output_type": "stream",
          "name": "stdout",
          "text": [
            "Drive already mounted at /content/drive; to attempt to forcibly remount, call drive.mount(\"/content/drive\", force_remount=True).\n"
          ]
        }
      ],
      "source": [
        "from google.colab import drive\n",
        "drive.mount('/content/drive')"
      ]
    },
    {
      "cell_type": "code",
      "source": [
        "import warnings\n",
        "warnings.filterwarnings('ignore')\n"
      ],
      "metadata": {
        "id": "PW8H9EnAp7Ox"
      },
      "execution_count": 59,
      "outputs": []
    },
    {
      "cell_type": "code",
      "execution_count": 60,
      "metadata": {
        "id": "Fn-TYGkU1R-3"
      },
      "outputs": [],
      "source": [
        "with open('/content/drive/MyDrive/cn_hw2_data/out.dimacs10-polbooks', 'r') as file:\n",
        "    edges = [tuple(map(int, line.strip().split())) for line in file]"
      ]
    },
    {
      "cell_type": "code",
      "execution_count": 61,
      "metadata": {
        "id": "DMkqpLcK0FRC"
      },
      "outputs": [],
      "source": [
        "graph = {}\n",
        "num_nodes = 0\n",
        "num_edges = 0\n",
        "for s, d in edges:\n",
        "    if s-1 not in graph:\n",
        "        num_nodes += 1\n",
        "        graph[s-1] = []\n",
        "    if d-1 not in graph:\n",
        "        num_nodes += 1\n",
        "        graph[d-1] = []\n",
        "\n",
        "    num_edges += 1\n",
        "    graph[s-1].append(d-1)\n",
        "    graph[d-1].append(s-1)"
      ]
    },
    {
      "cell_type": "code",
      "source": [
        "num_edges"
      ],
      "metadata": {
        "colab": {
          "base_uri": "https://localhost:8080/"
        },
        "id": "2t1GIkO-qWgW",
        "outputId": "9df5f6b2-0a72-4086-d93d-0d1205569669"
      },
      "execution_count": 62,
      "outputs": [
        {
          "output_type": "execute_result",
          "data": {
            "text/plain": [
              "441"
            ]
          },
          "metadata": {},
          "execution_count": 62
        }
      ]
    },
    {
      "cell_type": "code",
      "execution_count": 63,
      "metadata": {
        "id": "9Ab8cNQC0Ff2"
      },
      "outputs": [],
      "source": [
        "import numpy as np\n",
        "\n",
        "A = np.zeros((num_nodes, num_nodes))\n",
        "for s, d in edges:\n",
        "  A[s-1][d-1]=1\n",
        "  A[d-1][s-1]=1"
      ]
    },
    {
      "cell_type": "code",
      "execution_count": 64,
      "metadata": {
        "id": "v2T_IbAF0Fix"
      },
      "outputs": [],
      "source": [
        "for node, neighbors in graph.items():\n",
        "    for neighbor in neighbors:\n",
        "      A[node, neighbor] = 1"
      ]
    },
    {
      "cell_type": "code",
      "execution_count": 65,
      "metadata": {
        "id": "AaL2ru4R0FlY"
      },
      "outputs": [],
      "source": [
        "D = np.zeros((num_nodes,num_nodes))\n",
        "for node, neighbors in graph.items():\n",
        "  D[node,node] = len(neighbors)"
      ]
    },
    {
      "cell_type": "code",
      "execution_count": 66,
      "metadata": {
        "id": "XJO36DyN0FoL"
      },
      "outputs": [],
      "source": [
        "L = D - A"
      ]
    },
    {
      "cell_type": "code",
      "execution_count": 67,
      "metadata": {
        "colab": {
          "base_uri": "https://localhost:8080/"
        },
        "id": "f7pP5V0p4KQx",
        "outputId": "43dfd04e-5de6-4ef0-a850-49f1b7bf1f68"
      },
      "outputs": [
        {
          "output_type": "execute_result",
          "data": {
            "text/plain": [
              "array([[ 6., -1., -1., ...,  0.,  0.,  0.],\n",
              "       [-1.,  4.,  0., ...,  0.,  0.,  0.],\n",
              "       [-1.,  0.,  4., ...,  0.,  0.,  0.],\n",
              "       ...,\n",
              "       [ 0.,  0.,  0., ...,  3.,  0.,  0.],\n",
              "       [ 0.,  0.,  0., ...,  0.,  7.,  0.],\n",
              "       [ 0.,  0.,  0., ...,  0.,  0.,  5.]])"
            ]
          },
          "metadata": {},
          "execution_count": 67
        }
      ],
      "source": [
        "L"
      ]
    },
    {
      "cell_type": "code",
      "execution_count": 68,
      "metadata": {
        "id": "r9vRU7Xk4MSX"
      },
      "outputs": [],
      "source": [
        "### obtain the eigenvalues and eigenvectors of the laplacian\n",
        "eigenvalues, eigenvectors = np.linalg.eig(L)"
      ]
    },
    {
      "cell_type": "code",
      "execution_count": 69,
      "metadata": {
        "id": "FR5vp7664UDi"
      },
      "outputs": [],
      "source": [
        "index = np.argsort(eigenvalues)\n",
        "sorted_eigenvalues = eigenvalues[index]\n",
        "sorted_eigenvectors = eigenvectors[:,index]"
      ]
    },
    {
      "cell_type": "code",
      "execution_count": 70,
      "metadata": {
        "colab": {
          "base_uri": "https://localhost:8080/"
        },
        "id": "m7Wo3yye-3f_",
        "outputId": "b3989061-6ded-493b-8b91-b6ca3bc1225d"
      },
      "outputs": [
        {
          "output_type": "execute_result",
          "data": {
            "text/plain": [
              "array([3.05841201e-15, 3.23607315e-01, 7.64480671e-01, 1.39014114e+00,\n",
              "       1.60287332e+00, 1.81029903e+00, 1.89250401e+00, 2.10044318e+00,\n",
              "       2.17853718e+00, 2.63084779e+00, 2.76657841e+00, 2.84081648e+00,\n",
              "       2.88371446e+00, 2.88653383e+00, 2.96865938e+00, 3.09918475e+00,\n",
              "       3.27347119e+00, 3.30476486e+00, 3.33892723e+00, 3.62132877e+00,\n",
              "       3.63192871e+00, 3.71872054e+00, 3.80634416e+00, 3.92725157e+00,\n",
              "       4.02083438e+00, 4.07322788e+00, 4.13854286e+00, 4.22682751e+00,\n",
              "       4.24952030e+00, 4.28173596e+00, 4.34902004e+00, 4.39149924e+00,\n",
              "       4.45848707e+00, 4.73116025e+00, 4.73743434e+00, 4.80556197e+00,\n",
              "       5.02819180e+00, 5.05252730e+00, 5.08078438e+00, 5.17158993e+00,\n",
              "       5.29282448e+00, 5.40607197e+00, 5.45701783e+00, 5.62478170e+00,\n",
              "       5.72548679e+00, 5.76157025e+00, 5.81362220e+00, 6.08780252e+00,\n",
              "       6.34755438e+00, 6.40748397e+00, 6.45403899e+00, 6.50759802e+00,\n",
              "       6.57332155e+00, 6.74268904e+00, 6.80542200e+00, 6.81254881e+00,\n",
              "       6.87312163e+00, 7.02302231e+00, 7.04283659e+00, 7.15655511e+00,\n",
              "       7.45613397e+00, 7.52065405e+00, 7.61646007e+00, 7.79073035e+00,\n",
              "       7.84063007e+00, 8.17621916e+00, 8.36511821e+00, 8.37970779e+00,\n",
              "       8.45643495e+00, 8.55184642e+00, 8.64016872e+00, 8.80561029e+00,\n",
              "       8.88542463e+00, 9.08689727e+00, 9.31232663e+00, 9.62101606e+00,\n",
              "       1.01459095e+01, 1.01875797e+01, 1.06334234e+01, 1.10094323e+01,\n",
              "       1.12873118e+01, 1.17219127e+01, 1.18840355e+01, 1.21980488e+01,\n",
              "       1.28419952e+01, 1.32948518e+01, 1.34126501e+01, 1.40678607e+01,\n",
              "       1.53728423e+01, 1.56512770e+01, 1.57256466e+01, 1.67246718e+01,\n",
              "       1.67991787e+01, 1.74473184e+01, 1.86947841e+01, 1.90093933e+01,\n",
              "       2.00097106e+01, 2.09656528e+01, 2.17029098e+01, 2.26628838e+01,\n",
              "       2.34947215e+01, 2.40847766e+01, 2.43962850e+01, 2.60116071e+01,\n",
              "       2.65816773e+01])"
            ]
          },
          "metadata": {},
          "execution_count": 70
        }
      ],
      "source": [
        "sorted_eigenvalues"
      ]
    },
    {
      "cell_type": "code",
      "execution_count": 71,
      "metadata": {
        "id": "DNf1FlGa-9KB"
      },
      "outputs": [],
      "source": [
        "l2 = sorted_eigenvalues[1]\n",
        "x2 = sorted_eigenvectors[:,1]"
      ]
    },
    {
      "cell_type": "code",
      "execution_count": 72,
      "metadata": {
        "id": "qhJ1z1ZT_Bf2"
      },
      "outputs": [],
      "source": [
        "x2 = np.squeeze(np.asarray(x2))\n",
        "x2_real = [np.real(a) for a in x2]"
      ]
    },
    {
      "cell_type": "code",
      "execution_count": 73,
      "metadata": {
        "colab": {
          "base_uri": "https://localhost:8080/",
          "height": 447
        },
        "id": "gcJdRsAO_B9Z",
        "outputId": "2be1a415-5fc1-403a-aa92-0c208560e29c"
      },
      "outputs": [
        {
          "output_type": "execute_result",
          "data": {
            "text/plain": [
              "<matplotlib.collections.PathCollection at 0x7d7e5ae107c0>"
            ]
          },
          "metadata": {},
          "execution_count": 73
        },
        {
          "output_type": "display_data",
          "data": {
            "text/plain": [
              "<Figure size 640x480 with 1 Axes>"
            ],
            "image/png": "[encoded data removed]"
          },
          "metadata": {}
        }
      ],
      "source": [
        "import matplotlib.pyplot as plt\n",
        "plt.scatter(range(num_nodes),x2_real,c='m')"
      ]
    },
    {
      "cell_type": "code",
      "execution_count": 74,
      "metadata": {
        "id": "30gEQh4D_B_t"
      },
      "outputs": [],
      "source": [
        "from sklearn.cluster import KMeans\n",
        "\n",
        "distortions = []\n",
        "K = range(1,10)\n",
        "for k in K:\n",
        "    kmeanModel = KMeans(n_clusters=k)\n",
        "    kmeanModel.fit(np.array(x2_real).reshape(-1,1))\n",
        "    distortions.append(kmeanModel.inertia_)"
      ]
    },
    {
      "cell_type": "code",
      "execution_count": 75,
      "metadata": {
        "colab": {
          "base_uri": "https://localhost:8080/",
          "height": 641
        },
        "id": "wWGmXRat_CBs",
        "outputId": "fe8a749e-c3f0-4ad7-cf6a-982f5bc7f7c5"
      },
      "outputs": [
        {
          "output_type": "display_data",
          "data": {
            "text/plain": [
              "<Figure size 1000x700 with 1 Axes>"
            ],
            "image/png": "[encoded data removed]"
          },
          "metadata": {}
        }
      ],
      "source": [
        "plt.figure(figsize=(10,7))\n",
        "plt.plot(K, distortions, 'bx-')\n",
        "plt.xlabel('k')\n",
        "plt.ylabel('Distortion')\n",
        "plt.title('The Elbow Method showing the optimal k')\n",
        "plt.show()"
      ]
    },
    {
      "cell_type": "code",
      "execution_count": 76,
      "metadata": {
        "id": "df4AoS14_CD4"
      },
      "outputs": [],
      "source": [
        "\n",
        "kmeans = KMeans(n_clusters=2).fit(np.array(x2_real).reshape(-1,1))"
      ]
    },
    {
      "cell_type": "code",
      "execution_count": 77,
      "metadata": {
        "id": "2AzqpWqw_CGm"
      },
      "outputs": [],
      "source": [
        "cluster1 = (np.where(kmeans.labels_==0)[0])\n",
        "cluster2 = (np.where(kmeans.labels_==1)[0])"
      ]
    },
    {
      "cell_type": "code",
      "execution_count": 78,
      "metadata": {
        "colab": {
          "base_uri": "https://localhost:8080/"
        },
        "id": "ox1LBc-1rBxp",
        "outputId": "e33351dd-4cba-49f0-f56b-417729fdd9ab"
      },
      "outputs": [
        {
          "output_type": "execute_result",
          "data": {
            "text/plain": [
              "array([  7,  28,  30,  31,  32,  33,  34,  50,  59,  61,  62,  63,  64,\n",
              "        65,  66,  67,  68,  69,  70,  71,  72,  73,  74,  75,  76,  77,\n",
              "        78,  80,  81,  82,  83,  84,  85,  86,  87,  88,  89,  90,  91,\n",
              "        92,  93,  94,  95,  96,  97,  98,  99, 100, 101, 102, 103, 104])"
            ]
          },
          "metadata": {},
          "execution_count": 78
        }
      ],
      "source": [
        "cluster1"
      ]
    },
    {
      "cell_type": "code",
      "execution_count": 79,
      "metadata": {
        "colab": {
          "base_uri": "https://localhost:8080/"
        },
        "id": "wt399QrmrDpY",
        "outputId": "3afa0246-0f6e-4b9e-966e-11094e97bf87"
      },
      "outputs": [
        {
          "output_type": "execute_result",
          "data": {
            "text/plain": [
              "array([ 0,  1,  2,  3,  4,  5,  6,  8,  9, 10, 11, 12, 13, 14, 15, 16, 17,\n",
              "       18, 19, 20, 21, 22, 23, 24, 25, 26, 27, 29, 35, 36, 37, 38, 39, 40,\n",
              "       41, 42, 43, 44, 45, 46, 47, 48, 49, 51, 52, 53, 54, 55, 56, 57, 58,\n",
              "       60, 79])"
            ]
          },
          "metadata": {},
          "execution_count": 79
        }
      ],
      "source": [
        "cluster2"
      ]
    },
    {
      "cell_type": "code",
      "execution_count": 80,
      "metadata": {
        "id": "TxZXUR8IrGZ7"
      },
      "outputs": [],
      "source": [
        "clusters = [cluster1,cluster2]\n",
        "\n",
        "import itertools\n",
        "\n",
        "def min_cut(clusters):\n",
        "  coms = list(itertools.combinations(clusters, 2))\n",
        "  sum = 0\n",
        "  for com in coms:\n",
        "    for i in com[0]:\n",
        "      for j in com[1]:\n",
        "              sum+=A[i][j]\n",
        "\n",
        "  return sum"
      ]
    },
    {
      "cell_type": "code",
      "execution_count": 81,
      "metadata": {
        "colab": {
          "base_uri": "https://localhost:8080/"
        },
        "id": "44-GC356rkfn",
        "outputId": "4b566df3-f156-4f13-e830-6ac525a244db"
      },
      "outputs": [
        {
          "output_type": "execute_result",
          "data": {
            "text/plain": [
              "20.0"
            ]
          },
          "metadata": {},
          "execution_count": 81
        }
      ],
      "source": [
        "min_cut(clusters)"
      ]
    },
    {
      "cell_type": "code",
      "execution_count": 83,
      "metadata": {
        "id": "no0xjKiIrrd3"
      },
      "outputs": [],
      "source": [
        "def modularity(clusters,A,num_edges):\n",
        "  sum = 0\n",
        "  for cluster in clusters:\n",
        "    for i in cluster:\n",
        "      for j in cluster:\n",
        "        sum+= (A[i][j] - (D[i][i] * D[j][j])) / (2* num_edges)\n",
        "  sum/= (2* num_edges)\n",
        "  return sum"
      ]
    },
    {
      "cell_type": "code",
      "execution_count": 85,
      "metadata": {
        "colab": {
          "base_uri": "https://localhost:8080/"
        },
        "id": "-e_HI0yt2zoY",
        "outputId": "51b01131-fa4f-4170-bc6f-fc8e13d902b0"
      },
      "outputs": [
        {
          "output_type": "execute_result",
          "data": {
            "text/plain": [
              "-0.4989202030018074"
            ]
          },
          "metadata": {},
          "execution_count": 85
        }
      ],
      "source": [
        "modularity(clusters,A,num_edges)"
      ]
    },
    {
      "cell_type": "code",
      "execution_count": 87,
      "metadata": {
        "id": "gfhT-e9K7qjW"
      },
      "outputs": [],
      "source": [
        "kmeans = KMeans(n_clusters=3).fit(np.array(x2_real).reshape(-1,1))"
      ]
    },
    {
      "cell_type": "code",
      "execution_count": 88,
      "metadata": {
        "id": "hkHPn3FJWto9"
      },
      "outputs": [],
      "source": [
        "cluster1 = (np.where(kmeans.labels_==0)[0])\n",
        "cluster2 = (np.where(kmeans.labels_==1)[0])\n",
        "cluster3 = (np.where(kmeans.labels_==2)[0])"
      ]
    },
    {
      "cell_type": "code",
      "execution_count": 89,
      "metadata": {
        "id": "9uy0t15GWtrl"
      },
      "outputs": [],
      "source": [
        "clusters = [cluster1,cluster2,cluster3]"
      ]
    },
    {
      "cell_type": "code",
      "execution_count": 90,
      "metadata": {
        "colab": {
          "base_uri": "https://localhost:8080/"
        },
        "id": "07a1_uxBWtuo",
        "outputId": "a04ebd67-1f99-4d85-d7dd-4dba63bfbfb5"
      },
      "outputs": [
        {
          "output_type": "execute_result",
          "data": {
            "text/plain": [
              "43.0"
            ]
          },
          "metadata": {},
          "execution_count": 90
        }
      ],
      "source": [
        "min_cut(clusters)"
      ]
    },
    {
      "cell_type": "code",
      "execution_count": 91,
      "metadata": {
        "colab": {
          "base_uri": "https://localhost:8080/"
        },
        "id": "HIeAoxLjWtxh",
        "outputId": "69f920ef-d722-407d-8cbf-31d82f949a2d"
      },
      "outputs": [
        {
          "output_type": "execute_result",
          "data": {
            "text/plain": [
              "-0.4144235169502224"
            ]
          },
          "metadata": {},
          "execution_count": 91
        }
      ],
      "source": [
        "modularity(clusters,A,num_edges)"
      ]
    },
    {
      "cell_type": "code",
      "execution_count": 92,
      "metadata": {
        "id": "RJaBl2h7Wtz-",
        "colab": {
          "base_uri": "https://localhost:8080/"
        },
        "outputId": "cba356fe-8f48-4a0e-fafb-ccfabe7bfeba"
      },
      "outputs": [
        {
          "output_type": "stream",
          "name": "stdout",
          "text": [
            "num_clusters:1: min_cut:0 modularity:-0.9988662131518167\n",
            "num_clusters:2: min_cut:20.0 modularity:-0.4989202030018074\n",
            "num_clusters:3: min_cut:43.0 modularity:-0.41442351695022117\n",
            "num_clusters:4: min_cut:90.0 modularity:-0.33319964418116976\n",
            "num_clusters:5: min_cut:138.0 modularity:-0.27731757858093614\n",
            "num_clusters:6: min_cut:171.0 modularity:-0.22892981833700451\n",
            "num_clusters:7: min_cut:182.0 modularity:-0.2176613653775933\n",
            "num_clusters:8: min_cut:234.0 modularity:-0.15666826065271094\n",
            "num_clusters:9: min_cut:256.0 modularity:-0.14331734205397947\n"
          ]
        }
      ],
      "source": [
        "K = range(1,10)\n",
        "for k in K:\n",
        "  clusters = []\n",
        "  kmeans = KMeans(n_clusters=k).fit(np.array(x2_real).reshape(-1,1))\n",
        "  for c in range(k):\n",
        "    clusters.append(np.where(kmeans.labels_==c)[0])\n",
        "  mc = min_cut(clusters)\n",
        "  m = modularity(clusters,A,num_edges)\n",
        "\n",
        "  print(f'num_clusters:{k}: min_cut:{mc} modularity:{m}')"
      ]
    },
    {
      "cell_type": "code",
      "source": [
        "kmeans = KMeans(n_clusters=4).fit(np.array(x2_real).reshape(-1,1))\n",
        "clusters = []\n",
        "for c in range(4):\n",
        "    print(np.where(kmeans.labels_==c)[0])\n"
      ],
      "metadata": {
        "colab": {
          "base_uri": "https://localhost:8080/"
        },
        "id": "42znfrYRvpnQ",
        "outputId": "575854ce-7773-43d4-d7a0-cce855436351"
      },
      "execution_count": 94,
      "outputs": [
        {
          "output_type": "stream",
          "name": "stdout",
          "text": [
            "[ 28  30  31  33  61  62  63  64  65  66  67  68  69  70  71  72  73  74\n",
            "  75  76  77  78  80  85  86  87  88  89  90  91  92  93  94  95  96  97\n",
            "  98  99 100 101 102 103 104]\n",
            "[ 3  8 10 11 12 13 15 16 17 18 21 23 24 25 26 27 35 36 37 38 39 40 41 42\n",
            " 43 44 46 52 53 54 55 56 57 79]\n",
            "[ 4  7 32 34 48 50 51 59 81 82 83 84]\n",
            "[ 0  1  2  5  6  9 14 19 20 22 29 45 47 49 58 60]\n"
          ]
        }
      ]
    },
    {
      "cell_type": "code",
      "execution_count": 48,
      "metadata": {
        "id": "LoT-uaSHWt2g"
      },
      "outputs": [],
      "source": []
    }
  ],
  "metadata": {
    "colab": {
      "provenance": []
    },
    "kernelspec": {
      "display_name": "Python 3",
      "name": "python3"
    },
    "language_info": {
      "name": "python"
    }
  },
  "nbformat": 4,
  "nbformat_minor": 0
}