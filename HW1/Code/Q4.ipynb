{
 "cells": [
  {
   "cell_type": "code",
   "execution_count": 17,
   "id": "initial_id",
   "metadata": {
    "collapsed": true,
    "ExecuteTime": {
     "end_time": "2023-11-05T07:31:52.428829845Z",
     "start_time": "2023-11-05T07:31:52.235261441Z"
    }
   },
   "outputs": [],
   "source": [
    "# read file\n",
    "with open('Q4/facebook_combined.txt', 'r') as file:\n",
    "    edges = [tuple(map(int, line.strip().split())) for line in file]"
   ]
  },
  {
   "cell_type": "code",
   "execution_count": 18,
   "outputs": [
    {
     "name": "stdout",
     "output_type": "stream",
     "text": [
      "Number of nodes: 4039\n",
      "Number of edges: 88234\n"
     ]
    }
   ],
   "source": [
    "nodes = set(sum(edges, ()))\n",
    "members = len(nodes)\n",
    "relations = len(edges)\n",
    "\n",
    "print(f\"Number of nodes: {members}\")\n",
    "print(f\"Number of edges: {relations}\")"
   ],
   "metadata": {
    "collapsed": false,
    "ExecuteTime": {
     "end_time": "2023-11-05T07:33:11.599621184Z",
     "start_time": "2023-11-05T07:31:58.543581985Z"
    }
   },
   "id": "d01c7b93417691e8"
  },
  {
   "cell_type": "code",
   "execution_count": 1,
   "outputs": [],
   "source": [
    "num_nodes = 8"
   ],
   "metadata": {
    "collapsed": false,
    "ExecuteTime": {
     "end_time": "2023-11-07T08:04:00.492415658Z",
     "start_time": "2023-11-07T08:04:00.491566035Z"
    }
   },
   "id": "29d8833604e60d74"
  },
  {
   "cell_type": "code",
   "execution_count": 20,
   "outputs": [],
   "source": [
    "import networkx as nx\n",
    "\n",
    "graph = nx.Graph()\n",
    "for s, d in edges:\n",
    "    graph.add_edge(s, d)"
   ],
   "metadata": {
    "collapsed": false,
    "ExecuteTime": {
     "end_time": "2023-11-05T07:33:54.706962165Z",
     "start_time": "2023-11-05T07:33:54.467281335Z"
    }
   },
   "id": "235ac494117b2b50"
  },
  {
   "cell_type": "code",
   "execution_count": 3,
   "outputs": [],
   "source": [
    "import matplotlib.pyplot as plt\n",
    "import random\n",
    "\n",
    "\n",
    "def create_and_save_realizations_with_activation(graph, num_realization, output_directory):\n",
    "    # Create realizations with edge activation and save them\n",
    "    for i in range(num_realization):  # Create n realizations\n",
    "        realization_graph = graph.copy()  # Create a copy of the original graph for each realization\n",
    "\n",
    "        # Randomly activate edges with a 10% chance\n",
    "        for edge in realization_graph.edges():\n",
    "            if random.random() > 0.1:  # 10% chance of activation\n",
    "                realization_graph.remove_edge(*edge)\n",
    "\n",
    "        file_path = output_directory + f'/realization{i}.graphml'\n",
    "        nx.write_graphml(realization_graph, file_path)"
   ],
   "metadata": {
    "collapsed": false,
    "ExecuteTime": {
     "end_time": "2023-11-05T14:38:56.473719461Z",
     "start_time": "2023-11-05T14:38:55.027900763Z"
    }
   },
   "id": "728eb6d80c5ba43f"
  },
  {
   "cell_type": "code",
   "execution_count": 22,
   "outputs": [],
   "source": [
    "create_and_save_realizations_with_activation(graph, 10, \"Q4\")"
   ],
   "metadata": {
    "collapsed": false,
    "ExecuteTime": {
     "end_time": "2023-11-05T07:34:10.715064177Z",
     "start_time": "2023-11-05T07:34:05.974813766Z"
    }
   },
   "id": "857102316965e860"
  },
  {
   "cell_type": "code",
   "execution_count": 2,
   "outputs": [],
   "source": [
    "import networkx as nx\n",
    "\n",
    "\n",
    "def read_realizations(num_realization, directory):\n",
    "    realization = []\n",
    "    for i in range(num_realization):\n",
    "        file_path = directory + f'/realization{i}.graphml'\n",
    "        realization.append(nx.read_graphml(file_path))\n",
    "\n",
    "    return realization"
   ],
   "metadata": {
    "collapsed": false,
    "ExecuteTime": {
     "end_time": "2023-11-07T08:04:08.390591265Z",
     "start_time": "2023-11-07T08:04:08.190886415Z"
    }
   },
   "id": "11ac47ee0e1e3943"
  },
  {
   "cell_type": "code",
   "execution_count": 3,
   "outputs": [
    {
     "data": {
      "text/plain": "[<networkx.classes.graph.Graph at 0x7f9ecff562e0>,\n <networkx.classes.graph.Graph at 0x7f9eb5c1c250>,\n <networkx.classes.graph.Graph at 0x7f9ed1b2dc10>,\n <networkx.classes.graph.Graph at 0x7f9ed1b2db80>,\n <networkx.classes.graph.Graph at 0x7f9eb5c38c70>,\n <networkx.classes.graph.Graph at 0x7f9ecc483490>,\n <networkx.classes.graph.Graph at 0x7f9eb4ec5370>,\n <networkx.classes.graph.Graph at 0x7f9eb5c38af0>,\n <networkx.classes.graph.Graph at 0x7f9ecc4fd1f0>,\n <networkx.classes.graph.Graph at 0x7f9ecc6351f0>]"
     },
     "execution_count": 3,
     "metadata": {},
     "output_type": "execute_result"
    }
   ],
   "source": [
    "realizations = read_realizations(10, \"Q4\")\n",
    "realizations"
   ],
   "metadata": {
    "collapsed": false,
    "ExecuteTime": {
     "end_time": "2023-11-07T08:04:11.276516782Z",
     "start_time": "2023-11-07T08:04:08.548552351Z"
    }
   },
   "id": "79e245f4ce9e1805"
  },
  {
   "cell_type": "markdown",
   "source": [
    "C)"
   ],
   "metadata": {
    "collapsed": false
   },
   "id": "5b66be99a2eb2bcb"
  },
  {
   "cell_type": "code",
   "execution_count": 4,
   "outputs": [],
   "source": [
    "def top_degree_nodes(graph, num_nodes):\n",
    "    node_degrees = list(graph.degree)\n",
    "\n",
    "    # Sort the nodes by degree in descending order\n",
    "    sorted_nodes = sorted(node_degrees, key=lambda x: x[1], reverse=True)\n",
    "\n",
    "    # Select the top n nodes and their degrees\n",
    "    top_n_nodes = sorted_nodes[:num_nodes]\n",
    "\n",
    "    return top_n_nodes"
   ],
   "metadata": {
    "collapsed": false,
    "ExecuteTime": {
     "end_time": "2023-11-07T08:04:16.805290483Z",
     "start_time": "2023-11-07T08:04:16.775541260Z"
    }
   },
   "id": "edc2fac4f8e91838"
  },
  {
   "cell_type": "code",
   "execution_count": 5,
   "outputs": [],
   "source": [
    "top_nodes = {}\n",
    "for realization in realizations:\n",
    "    s = top_degree_nodes(realization, num_nodes)\n",
    "    for k in s:\n",
    "        if k[0] not in top_nodes.keys():\n",
    "            top_nodes[k[0]] = {}\n",
    "            top_nodes[k[0]]['sum'] = k[1]\n",
    "            top_nodes[k[0]]['num'] = 1\n",
    "        else:\n",
    "            top_nodes[k[0]]['sum'] += k[1]\n",
    "            top_nodes[k[0]]['num'] += 1"
   ],
   "metadata": {
    "collapsed": false,
    "ExecuteTime": {
     "end_time": "2023-11-07T08:04:17.255466199Z",
     "start_time": "2023-11-07T08:04:17.119411587Z"
    }
   },
   "id": "5324300ead2be15b"
  },
  {
   "cell_type": "code",
   "execution_count": 6,
   "outputs": [
    {
     "data": {
      "text/plain": "[('107', 106.8),\n ('1684', 82.3),\n ('1912', 76.9),\n ('3437', 56.1),\n ('0', 35.5),\n ('2604', 34.0),\n ('1730', 34.0),\n ('2586', 33.0)]"
     },
     "execution_count": 6,
     "metadata": {},
     "output_type": "execute_result"
    }
   ],
   "source": [
    "top_nodes_list = []\n",
    "\n",
    "for k in top_nodes.keys():\n",
    "    top_nodes_list.append((k, top_nodes[k]['sum'] / top_nodes[k]['num']))\n",
    "\n",
    "degree_nodes = sorted(top_nodes_list, key=lambda x: x[1], reverse=True)[:num_nodes]\n",
    "degree_nodes"
   ],
   "metadata": {
    "collapsed": false,
    "ExecuteTime": {
     "end_time": "2023-11-07T08:04:17.469665048Z",
     "start_time": "2023-11-07T08:04:17.409664537Z"
    }
   },
   "id": "e9ba7f6f36b638e1"
  },
  {
   "cell_type": "code",
   "execution_count": 7,
   "outputs": [
    {
     "data": {
      "text/plain": "('107', '1684', '1912', '3437', '0', '2604', '1730', '2586')"
     },
     "execution_count": 7,
     "metadata": {},
     "output_type": "execute_result"
    }
   ],
   "source": [
    "list(zip(*degree_nodes))[0]"
   ],
   "metadata": {
    "collapsed": false,
    "ExecuteTime": {
     "end_time": "2023-11-07T08:04:18.752425166Z",
     "start_time": "2023-11-07T08:04:18.717138215Z"
    }
   },
   "id": "c43e7bf148045dc0"
  },
  {
   "cell_type": "code",
   "execution_count": 8,
   "outputs": [],
   "source": [
    "def marginal_gain(graph, nodes):\n",
    "    # Initialize a set to keep track of reachable nodes\n",
    "    reachable_nodes = set()\n",
    "\n",
    "    # Use Breadth-First Search (BFS) to find reachable nodes from the seed set\n",
    "    for node in nodes:\n",
    "        reachable_nodes.update(nx.bfs_tree(graph, source=node).nodes())\n",
    "\n",
    "    return len(reachable_nodes)\n"
   ],
   "metadata": {
    "collapsed": false,
    "ExecuteTime": {
     "end_time": "2023-11-07T08:04:19.245366446Z",
     "start_time": "2023-11-07T08:04:19.181906465Z"
    }
   },
   "id": "295712b4b9db43d9"
  },
  {
   "cell_type": "code",
   "execution_count": 9,
   "outputs": [
    {
     "name": "stdout",
     "output_type": "stream",
     "text": [
      "Selected Nodes:  ('107', '1684', '1912', '3437', '0', '2604', '1730', '2586')\n",
      "Elapsed time:  2.6521644592285156\n",
      "f(S):  2988.5\n"
     ]
    }
   ],
   "source": [
    "import time\n",
    "\n",
    "start_time = time.time()\n",
    "\n",
    "top_nodes_list = []\n",
    "\n",
    "top_nodes = {}\n",
    "for realization in realizations:\n",
    "    s = top_degree_nodes(realization, num_nodes)\n",
    "    for k in s:\n",
    "        if k[0] not in top_nodes.keys():\n",
    "            top_nodes[k[0]] = {}\n",
    "            top_nodes[k[0]]['sum'] = k[1]\n",
    "            top_nodes[k[0]]['num'] = 1\n",
    "        else:\n",
    "            top_nodes[k[0]]['sum'] += k[1]\n",
    "            top_nodes[k[0]]['num'] += 1\n",
    "\n",
    "\n",
    "for k in top_nodes.keys():\n",
    "    top_nodes_list.append((k, top_nodes[k]['sum'] / top_nodes[k]['num']))\n",
    "\n",
    "degree_nodes = sorted(top_nodes_list, key=lambda x: x[1], reverse=True)[:num_nodes]\n",
    "\n",
    "\n",
    "top_node_gain = 0\n",
    "\n",
    "for realization in realizations:\n",
    "    top_node_gain += marginal_gain(realization, list(zip(*degree_nodes))[0])\n",
    "\n",
    "top_node_gain /= 10\n",
    "\n",
    "end_time = time.time()\n",
    "elapsed_time = end_time - start_time\n",
    "print(\"Selected Nodes: \",list(zip(*degree_nodes))[0])\n",
    "print(\"Elapsed time: \", elapsed_time)\n",
    "print(\"f(S): \",top_node_gain)"
   ],
   "metadata": {
    "collapsed": false,
    "ExecuteTime": {
     "end_time": "2023-11-07T08:04:22.739449049Z",
     "start_time": "2023-11-07T08:04:20.080610303Z"
    }
   },
   "id": "e64478b1f6a45f5b"
  },
  {
   "cell_type": "code",
   "execution_count": 10,
   "outputs": [],
   "source": [
    "import random\n",
    "\n",
    "\n",
    "def get_random_nodes(graph, num_nodes):\n",
    "    return random.sample(graph.nodes(), num_nodes)"
   ],
   "metadata": {
    "collapsed": false,
    "ExecuteTime": {
     "end_time": "2023-11-07T08:04:22.771669415Z",
     "start_time": "2023-11-07T08:04:22.740324964Z"
    }
   },
   "id": "b4eb63acefc20c47"
  },
  {
   "cell_type": "code",
   "execution_count": 16,
   "outputs": [
    {
     "name": "stdout",
     "output_type": "stream",
     "text": [
      "Selected Nodes:  ['2202', '3347', '1580', '365', '3891', '1905', '187', '3807']\n",
      "Elapsed time:  1.667137622833252\n",
      "f(S):  2975.3\n"
     ]
    }
   ],
   "source": [
    "import time\n",
    "\n",
    "start_time = time.time()\n",
    "\n",
    "random_nodes = []\n",
    "\n",
    "for realization in realizations:\n",
    "    random_nodes.extend(get_random_nodes(realization, num_nodes))\n",
    "\n",
    "random_nodes = random.sample(random_nodes, num_nodes)\n",
    "\n",
    "\n",
    "random_node_gain = 0\n",
    "\n",
    "for realization in realizations:\n",
    "    random_node_gain += marginal_gain(realization, random_nodes)\n",
    "\n",
    "random_node_gain /= 10\n",
    "\n",
    "end_time = time.time()\n",
    "elapsed_time = end_time - start_time\n",
    "print(\"Selected Nodes: \",random_nodes)\n",
    "print(\"Elapsed time: \", elapsed_time)\n",
    "print(\"f(S): \",random_node_gain)"
   ],
   "metadata": {
    "collapsed": false,
    "ExecuteTime": {
     "end_time": "2023-11-07T08:05:29.512279193Z",
     "start_time": "2023-11-07T08:05:27.842970757Z"
    }
   },
   "id": "bb4e6381b73fe521"
  },
  {
   "cell_type": "markdown",
   "source": [
    "D)"
   ],
   "metadata": {
    "collapsed": false
   },
   "id": "8ce152427f5341e7"
  },
  {
   "cell_type": "code",
   "execution_count": 17,
   "outputs": [],
   "source": [
    "import numpy as np\n",
    "\n",
    "\n",
    "def greedy(realizations):\n",
    "    \"\"\"\n",
    "    Find k nodes with the largest spread (determined by IC) from a igraph graph\n",
    "    using the Greedy Algorithm.\n",
    "    \"\"\"\n",
    "\n",
    "    spreads = []\n",
    "    solution = []\n",
    "\n",
    "    for _ in range(num_nodes):\n",
    "        best_node = -1\n",
    "        best_spread = -np.inf\n",
    "\n",
    "\n",
    "        nodes = set(realizations[0].nodes()) - set(solution)\n",
    "        for node in nodes:\n",
    "            gain_node = 0\n",
    "            for realization in realizations:\n",
    "                gain_node += marginal_gain(realization, solution + [node])\n",
    "            gain_node /= 10\n",
    "\n",
    "            if gain_node > best_spread:\n",
    "                best_spread = gain_node\n",
    "                best_node = node\n",
    "\n",
    "        solution.append(best_node)\n",
    "        spreads.append(best_spread)\n",
    "\n",
    "    return solution, spreads\n",
    "\n"
   ],
   "metadata": {
    "collapsed": false,
    "ExecuteTime": {
     "end_time": "2023-11-07T08:05:36.952540789Z",
     "start_time": "2023-11-07T08:05:36.846911977Z"
    }
   },
   "id": "36dfa6dcd7b8af62"
  },
  {
   "cell_type": "code",
   "execution_count": 18,
   "outputs": [
    {
     "name": "stdout",
     "output_type": "stream",
     "text": [
      "Selected Nodes:  ['2758', '343', '776', '3980', '4030', '3549', '3382', '3918']\n",
      "Elapsed time:  21425.70372915268\n",
      "f(S):  [2933.5, 2990.7, 3041.6, 3055.2, 3059.4, 3063.5, 3067.5, 3071.4]\n"
     ]
    }
   ],
   "source": [
    "import time\n",
    "\n",
    "start_time = time.time()\n",
    "\n",
    "solution, spreads = greedy(realizations)\n",
    "\n",
    "end_time = time.time()\n",
    "elapsed_time = end_time - start_time\n",
    "\n",
    "print(\"Selected Nodes: \",solution)\n",
    "print(\"Elapsed time: \", elapsed_time)\n",
    "print(\"f(S): \",spreads)"
   ],
   "metadata": {
    "collapsed": false,
    "ExecuteTime": {
     "end_time": "2023-11-07T14:02:43.451322526Z",
     "start_time": "2023-11-07T08:05:37.698699690Z"
    }
   },
   "id": "8c9572dd8100c47f"
  },
  {
   "cell_type": "code",
   "execution_count": 19,
   "outputs": [],
   "source": [
    "import heapq\n",
    "\n",
    "def celf(realizations):\n",
    "    \"\"\"\n",
    "    Find k nodes with the largest spread (determined by IC) from a igraph graph\n",
    "    using the Cost Effective Lazy Forward Algorithm, a.k.a Lazy Greedy Algorithm.\n",
    "    \"\"\"\n",
    "\n",
    "    gains = []\n",
    "    nodes = set(realizations[0].nodes())\n",
    "    for node in nodes:\n",
    "        s = 0\n",
    "        for realization in realizations:\n",
    "            s += marginal_gain(realization, node)\n",
    "        spread = s / 10\n",
    "        heapq.heappush(gains, (-spread, node))\n",
    "\n",
    "\n",
    "    spread, node = heapq.heappop(gains)\n",
    "    solution = [node]\n",
    "    spread = -spread\n",
    "    spreads = [spread]\n",
    "\n",
    "    for _ in range(num_nodes - 1):\n",
    "        matched = False\n",
    "\n",
    "        while not matched:\n",
    "\n",
    "\n",
    "            _, current_node = heapq.heappop(gains)\n",
    "\n",
    "            s = 0\n",
    "            for realization in realizations:\n",
    "                s += marginal_gain(realization, solution + [current_node])\n",
    "\n",
    "            spread_gain = (s / 10) - spread\n",
    "\n",
    "            heapq.heappush(gains, (-spread_gain, current_node))\n",
    "            matched = gains[0][1] == current_node\n",
    "\n",
    "        spread_gain, node = heapq.heappop(gains)\n",
    "        spread -= spread_gain\n",
    "        solution.append(node)\n",
    "        spreads.append(spread)\n",
    "\n",
    "    return solution, spreads\n"
   ],
   "metadata": {
    "collapsed": false,
    "ExecuteTime": {
     "end_time": "2023-11-07T14:02:43.461562984Z",
     "start_time": "2023-11-07T14:02:43.450921183Z"
    }
   },
   "id": "aa4e70ab9092f31c"
  },
  {
   "cell_type": "code",
   "execution_count": 20,
   "outputs": [
    {
     "name": "stdout",
     "output_type": "stream",
     "text": [
      "Selected Nodes:  ['2058', '343', '776', '3980', '4030', '3549', '3382', '3579']\n",
      "Elapsed time:  4340.257801055908\n",
      "f(S):  [2420.9, 2990.7, 3041.6, 3055.2, 3059.4, 3063.5, 3067.5, 3071.4]\n"
     ]
    }
   ],
   "source": [
    "import time\n",
    "\n",
    "start_time = time.time()\n",
    "\n",
    "\n",
    "solution, spreads = celf(realizations)\n",
    "\n",
    "end_time = time.time()\n",
    "elapsed_time = end_time - start_time\n",
    "\n",
    "print(\"Selected Nodes: \",solution)\n",
    "print(\"Elapsed time: \", elapsed_time)\n",
    "print(\"f(S): \",spreads)"
   ],
   "metadata": {
    "collapsed": false,
    "ExecuteTime": {
     "end_time": "2023-11-07T15:15:03.743126111Z",
     "start_time": "2023-11-07T14:02:43.451209292Z"
    }
   },
   "id": "df7903848b1f5211"
  },
  {
   "cell_type": "code",
   "execution_count": null,
   "outputs": [],
   "source": [],
   "metadata": {
    "collapsed": false
   },
   "id": "571f2c320d7a7004"
  },
  {
   "cell_type": "code",
   "execution_count": null,
   "outputs": [],
   "source": [],
   "metadata": {
    "collapsed": false
   },
   "id": "aeca4da2a4a50b44"
  }
 ],
 "metadata": {
  "kernelspec": {
   "display_name": "Python 3",
   "language": "python",
   "name": "python3"
  },
  "language_info": {
   "codemirror_mode": {
    "name": "ipython",
    "version": 2
   },
   "file_extension": ".py",
   "mimetype": "text/x-python",
   "name": "python",
   "nbconvert_exporter": "python",
   "pygments_lexer": "ipython2",
   "version": "2.7.6"
  }
 },
 "nbformat": 4,
 "nbformat_minor": 5
}
